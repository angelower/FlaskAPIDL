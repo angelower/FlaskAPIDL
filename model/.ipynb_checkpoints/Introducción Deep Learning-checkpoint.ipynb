{
 "cells": [
  {
   "cell_type": "markdown",
   "metadata": {},
   "source": [
    "<img src=\"img/banner_bioudea.png\">"
   ]
  },
  {
   "cell_type": "markdown",
   "metadata": {},
   "source": [
    "# Práctica \n",
    "\n",
    "### Clasificación Fashion-MNIST\n",
    "\n",
    "Crearemos un modelo de clasificación para el conjunto de datos <a href=\"https://github.com/zalandoresearch/fashion-mnist\" target=\"_blank\">Fashion-MNIST dataset</a>. MNIST es una base de datos bastante sencilla, ya que con las redes neuronales puede lograr fácilmente una precisión superior al 97%. Fashion-MNIST es un conjunto de imágenes de ropa en escala de grises de 28x28. Es más complejo que MNIST, por lo que es una mejor representación del rendimiento real de su red."
   ]
  },
  {
   "cell_type": "markdown",
   "metadata": {},
   "source": [
    "#### Se importan las librerías de interés"
   ]
  },
  {
   "cell_type": "code",
   "execution_count": 1,
   "metadata": {},
   "outputs": [],
   "source": [
    "import os\n",
    "import gzip\n",
    "import numpy as np\n",
    "import matplotlib.pyplot as plt\n",
    "import warnings; warnings.simplefilter('ignore')"
   ]
  },
  {
   "cell_type": "markdown",
   "metadata": {},
   "source": [
    "#### Descargamos la base de datos desde keras"
   ]
  },
  {
   "cell_type": "code",
   "execution_count": null,
   "metadata": {},
   "outputs": [],
   "source": [
    "!pip install keras"
   ]
  },
  {
   "cell_type": "code",
   "execution_count": null,
   "metadata": {},
   "outputs": [],
   "source": [
    "!pip install keras.datasets"
   ]
  },
  {
   "cell_type": "code",
   "execution_count": null,
   "metadata": {
    "scrolled": true
   },
   "outputs": [],
   "source": [
    "!pip install tensorflow"
   ]
  },
  {
   "cell_type": "code",
   "execution_count": 2,
   "metadata": {},
   "outputs": [],
   "source": [
    "import tensorflow as tf\n",
    "(x_train, y_train), (x_test, y_test) = tf.keras.datasets.fashion_mnist.load_data()\n",
    "X_train = x_train.reshape(x_train.shape[0],x_train.shape[1]*x_train.shape[2])\n",
    "X_test = x_test.reshape(x_test.shape[0],x_test.shape[1]*x_test.shape[2])"
   ]
  },
  {
   "cell_type": "code",
   "execution_count": 3,
   "metadata": {},
   "outputs": [
    {
     "name": "stdout",
     "output_type": "stream",
     "text": [
      "(60000, 784)\n",
      "(60000,)\n",
      "(10000, 784)\n",
      "(10000,)\n"
     ]
    }
   ],
   "source": [
    "print(X_train.shape)\n",
    "print(y_train.shape)\n",
    "print(X_test.shape)\n",
    "print(y_test.shape)"
   ]
  },
  {
   "cell_type": "markdown",
   "metadata": {},
   "source": [
    "Veamos un ejemplo de las imágenes que vamos a trabajar"
   ]
  },
  {
   "cell_type": "code",
   "execution_count": 4,
   "metadata": {},
   "outputs": [
    {
     "data": {
      "image/png": "[encoded data removed]",
      "text/plain": [
       "<Figure size 640x480 with 1 Axes>"
      ]
     },
     "metadata": {},
     "output_type": "display_data"
    }
   ],
   "source": [
    "ind = np.random.permutation(X_train.shape[0])\n",
    "plt.imshow(x_train[ind[0],:,:], cmap='gray');"
   ]
  },
  {
   "cell_type": "code",
   "execution_count": 6,
   "metadata": {},
   "outputs": [],
   "source": [
    "from keras import utils\n",
    "from sklearn.preprocessing import StandardScaler\n",
    "\n",
    "input_dim = X_train.shape[1] #Datos de entrada a la RNA\n",
    "\n",
    "scaler = StandardScaler()\n",
    "X_trainN = scaler.fit_transform(X_train)\n",
    "X_testN = scaler.transform(X_test)\n",
    "\n",
    "# Se convierte la lista de etiquetas a una matriz de clase binaria\n",
    "y_trainOHE = utils.to_categorical(y_train)\n",
    "nb_classes = y_trainOHE.shape[1]"
   ]
  },
  {
   "cell_type": "code",
   "execution_count": 7,
   "metadata": {},
   "outputs": [
    {
     "data": {
      "text/plain": [
       "array([  0,   0,   0,   0,   0,   0,   0,   0,   0,   0,   0,   0,   0,\n",
       "         0,   0,   0,   0,   0,   0,   0,   0,   0,   0,   0,   0,   0,\n",
       "         0,   0,   0,   0,   0,   0,   0,   0,   0,   0,   0,   0,   0,\n",
       "         0,   0,   0,   0,   0,   0,   0,   0,   0,   0,   0,   0,   0,\n",
       "         0,   0,   0,   0,   0,   0,   0,   0,   0,   0,   0,   0,   0,\n",
       "         0,   0,   0,   0,   0,   0,   0,   0,   0,   0,   0,   0,   0,\n",
       "         0,   0,   0,   0,   0,   0,   0,   0,   0,   0,   0,   0,   0,\n",
       "         0,   0,   0,   0,   0,   1,   0,   0,  13,  73,   0,   0,   1,\n",
       "         4,   0,   0,   0,   0,   1,   1,   0,   0,   0,   0,   0,   0,\n",
       "         0,   0,   0,   0,   0,   0,   0,   3,   0,  36, 136, 127,  62,\n",
       "        54,   0,   0,   0,   1,   3,   4,   0,   0,   3,   0,   0,   0,\n",
       "         0,   0,   0,   0,   0,   0,   0,   0,   0,   6,   0, 102, 204,\n",
       "       176, 134, 144, 123,  23,   0,   0,   0,   0,  12,  10,   0,   0,\n",
       "         0,   0,   0,   0,   0,   0,   0,   0,   0,   0,   0,   0,   0,\n",
       "       155, 236, 207, 178, 107, 156, 161, 109,  64,  23,  77, 130,  72,\n",
       "        15,   0,   0,   0,   0,   0,   0,   0,   0,   0,   0,   0,   1,\n",
       "         0,  69, 207, 223, 218, 216, 216, 163, 127, 121, 122, 146, 141,\n",
       "        88, 172,  66,   0,   0,   0,   0,   0,   0,   0,   0,   0,   1,\n",
       "         1,   1,   0, 200, 232, 232, 233, 229, 223, 223, 215, 213, 164,\n",
       "       127, 123, 196, 229,   0,   0,   0,   0,   0,   0,   0,   0,   0,\n",
       "         0,   0,   0,   0,   0, 183, 225, 216, 223, 228, 235, 227, 224,\n",
       "       222, 224, 221, 223, 245, 173,   0,   0,   0,   0,   0,   0,   0,\n",
       "         0,   0,   0,   0,   0,   0,   0, 193, 228, 218, 213, 198, 180,\n",
       "       212, 210, 211, 213, 223, 220, 243, 202,   0,   0,   0,   0,   0,\n",
       "         0,   0,   0,   0,   0,   1,   3,   0,  12, 219, 220, 212, 218,\n",
       "       192, 169, 227, 208, 218, 224, 212, 226, 197, 209,  52,   0,   0,\n",
       "         0,   0,   0,   0,   0,   0,   0,   0,   6,   0,  99, 244, 222,\n",
       "       220, 218, 203, 198, 221, 215, 213, 222, 220, 245, 119, 167,  56,\n",
       "         0,   0,   0,   0,   0,   0,   0,   0,   0,   4,   0,   0,  55,\n",
       "       236, 228, 230, 228, 240, 232, 213, 218, 223, 234, 217, 217, 209,\n",
       "        92,   0,   0,   0,   1,   4,   6,   7,   2,   0,   0,   0,   0,\n",
       "         0, 237, 226, 217, 223, 222, 219, 222, 221, 216, 223, 229, 215,\n",
       "       218, 255,  77,   0,   0,   3,   0,   0,   0,   0,   0,   0,   0,\n",
       "        62, 145, 204, 228, 207, 213, 221, 218, 208, 211, 218, 224, 223,\n",
       "       219, 215, 224, 244, 159,   0,   0,   0,   0,   0,  18,  44,  82,\n",
       "       107, 189, 228, 220, 222, 217, 226, 200, 205, 211, 230, 224, 234,\n",
       "       176, 188, 250, 248, 233, 238, 215,   0,   0,  57, 187, 208, 224,\n",
       "       221, 224, 208, 204, 214, 208, 209, 200, 159, 245, 193, 206, 223,\n",
       "       255, 255, 221, 234, 221, 211, 220, 232, 246,   0,   3, 202, 228,\n",
       "       224, 221, 211, 211, 214, 205, 205, 205, 220, 240,  80, 150, 255,\n",
       "       229, 221, 188, 154, 191, 210, 204, 209, 222, 228, 225,   0,  98,\n",
       "       233, 198, 210, 222, 229, 229, 234, 249, 220, 194, 215, 217, 241,\n",
       "        65,  73, 106, 117, 168, 219, 221, 215, 217, 223, 223, 224, 229,\n",
       "        29,  75, 204, 212, 204, 193, 205, 211, 225, 216, 185, 197, 206,\n",
       "       198, 213, 240, 195, 227, 245, 239, 223, 218, 212, 209, 222, 220,\n",
       "       221, 230,  67,  48, 203, 183, 194, 213, 197, 185, 190, 194, 192,\n",
       "       202, 214, 219, 221, 220, 236, 225, 216, 199, 206, 186, 181, 177,\n",
       "       172, 181, 205, 206, 115,   0, 122, 219, 193, 179, 171, 183, 196,\n",
       "       204, 210, 213, 207, 211, 210, 200, 196, 194, 191, 195, 191, 198,\n",
       "       192, 176, 156, 167, 177, 210,  92,   0,   0,  74, 189, 212, 191,\n",
       "       175, 172, 175, 181, 185, 188, 189, 188, 193, 198, 204, 209, 210,\n",
       "       210, 211, 188, 188, 194, 192, 216, 170,   0,   2,   0,   0,   0,\n",
       "        66, 200, 222, 237, 239, 242, 246, 243, 244, 221, 220, 193, 191,\n",
       "       179, 182, 182, 181, 176, 166, 168,  99,  58,   0,   0,   0,   0,\n",
       "         0,   0,   0,   0,   0,  40,  61,  44,  72,  41,  35,   0,   0,\n",
       "         0,   0,   0,   0,   0,   0,   0,   0,   0,   0,   0,   0,   0,\n",
       "         0,   0,   0,   0,   0,   0,   0,   0,   0,   0,   0,   0,   0,\n",
       "         0,   0,   0,   0,   0,   0,   0,   0,   0,   0,   0,   0,   0,\n",
       "         0,   0,   0,   0,   0,   0,   0,   0,   0,   0,   0,   0,   0,\n",
       "         0,   0,   0,   0,   0,   0,   0,   0,   0,   0,   0,   0,   0,\n",
       "         0,   0,   0,   0], dtype=uint8)"
      ]
     },
     "execution_count": 7,
     "metadata": {},
     "output_type": "execute_result"
    }
   ],
   "source": [
    "X_train[0]"
   ]
  },
  {
   "cell_type": "code",
   "execution_count": 8,
   "metadata": {},
   "outputs": [
    {
     "data": {
      "text/plain": [
       "array([-8.64371176e-03, -2.32233257e-02, -3.91780598e-02, -4.13217164e-02,\n",
       "       -5.76457447e-02, -7.11673332e-02, -9.88784561e-02, -1.56652590e-01,\n",
       "       -2.39080340e-01, -3.77827057e-01, -5.70545271e-01, -6.94039140e-01,\n",
       "       -7.58868529e-01, -7.48857821e-01, -7.49009030e-01, -7.75175617e-01,\n",
       "       -7.57573332e-01, -6.46914032e-01, -5.04399791e-01, -3.19932035e-01,\n",
       "       -2.03351232e-01, -1.40220976e-01, -1.09811552e-01, -9.22242465e-02,\n",
       "       -6.82766692e-02, -5.05167826e-02, -3.32743014e-02, -1.36223522e-02,\n",
       "       -1.25721114e-02, -1.78614038e-02, -3.30493250e-02, -5.59065175e-02,\n",
       "       -7.80937469e-02, -1.31089676e-01, -2.43799305e-01, -3.63949871e-01,\n",
       "       -4.88007101e-01, -6.43607971e-01, -8.34050515e-01, -1.00280952e+00,\n",
       "       -1.09141822e+00, -1.08265217e+00, -1.06645189e+00, -1.10652482e+00,\n",
       "       -1.08951320e+00, -9.40120261e-01, -7.80195032e-01, -5.94466180e-01,\n",
       "       -4.41415891e-01, -3.16307390e-01, -2.07437016e-01, -1.48946980e-01,\n",
       "       -1.18545275e-01, -9.00584471e-02, -5.84777596e-02, -2.89463605e-02,\n",
       "       -1.55250102e-02, -2.55016438e-02, -4.60335891e-02, -7.36947876e-02,\n",
       "       -1.28855737e-01, -2.69055198e-01, -4.03767067e-01, -5.02407714e-01,\n",
       "       -6.29941706e-01, -8.22138132e-01, -9.94090278e-01, -1.07168098e+00,\n",
       "       -1.10099112e+00, -1.10018820e+00, -1.09260008e+00, -1.12143088e+00,\n",
       "       -1.11731206e+00, -1.08166173e+00, -9.77659395e-01, -7.77347271e-01,\n",
       "       -5.93383209e-01, -4.82721692e-01, -3.71855993e-01, -2.40361456e-01,\n",
       "       -1.69903541e-01, -1.29873524e-01, -8.77680606e-02, -5.10419372e-02,\n",
       "       -2.52882311e-02, -4.09018449e-02, -6.61575758e-02, -1.03739726e-01,\n",
       "       -2.14586361e-01, -3.70967737e-01, -5.06444224e-01, -6.38254000e-01,\n",
       "       -7.63104798e-01, -9.34099241e-01, -1.05096037e+00, -1.09578142e+00,\n",
       "       -1.09536996e+00, -1.10459738e+00, -1.11272655e+00, -9.97553536e-01,\n",
       "       -3.62291073e-01, -1.14198004e+00, -1.09122820e+00, -9.32134300e-01,\n",
       "       -7.10055765e-01, -6.18609465e-01, -4.87159118e-01, -3.48865521e-01,\n",
       "       -2.34059507e-01, -1.35637172e-01, -6.38090130e-02, -7.17806116e-02,\n",
       "       -3.87036030e-02, -6.23677128e-02, -9.13416395e-02, -1.49972810e-01,\n",
       "       -2.88948287e-01, -4.55010302e-01, -6.10019806e-01, -7.20011451e-01,\n",
       "       -8.19599736e-01, -9.80921818e-01, -1.07852132e+00, -1.11140327e+00,\n",
       "       -1.08442226e+00, -1.12688198e+00, -7.67314414e-01,  2.88881062e-01,\n",
       "        1.91328569e-01, -5.14218273e-01, -5.68149230e-01, -1.03749725e+00,\n",
       "       -8.57112673e-01, -7.40730489e-01, -5.90499984e-01, -3.94260305e-01,\n",
       "       -2.25226702e-01, -2.28202710e-01, -1.63194705e-01,  2.26936583e-01,\n",
       "       -5.27738507e-02, -8.55347437e-02, -1.23205639e-01, -1.99884081e-01,\n",
       "       -3.49441763e-01, -5.32773576e-01, -6.73940039e-01, -7.71010098e-01,\n",
       "       -8.67241951e-01, -1.02510990e+00, -1.10665175e+00, -1.13128628e+00,\n",
       "       -1.06763347e+00, -1.15820469e+00, -9.06770091e-02,  1.01045999e+00,\n",
       "        6.99522095e-01,  2.25794987e-01,  3.61894274e-01,  2.45283325e-01,\n",
       "       -6.88458737e-01, -8.30798228e-01, -7.05266006e-01, -5.33291732e-01,\n",
       "       -3.89207236e-01, -2.88723154e-02,  9.70067710e-02, -1.24993840e-01,\n",
       "       -6.74766339e-02, -1.07827085e-01, -1.54699010e-01, -2.45530038e-01,\n",
       "       -4.00839526e-01, -5.89066590e-01, -7.19595407e-01, -8.12977617e-01,\n",
       "       -8.97880010e-01, -1.05170677e+00, -1.12900065e+00, -1.15556855e+00,\n",
       "       -1.15971068e+00, -1.19578601e+00,  4.54462282e-01,  1.33017908e+00,\n",
       "        1.00512266e+00,  6.71472085e-01, -1.14799402e-01,  5.39947300e-01,\n",
       "        7.40207424e-01,  2.81313111e-01, -6.21859556e-02, -3.21856142e-01,\n",
       "        6.91959891e-01,  2.01131756e+00,  1.58744438e+00,  8.77217815e-01,\n",
       "       -8.52236311e-02, -1.30664694e-01, -1.84556908e-01, -2.85148564e-01,\n",
       "       -4.42098980e-01, -6.30695495e-01, -7.53415593e-01, -8.44620043e-01,\n",
       "       -9.22804074e-01, -1.06457195e+00, -1.14641003e+00, -1.16920386e+00,\n",
       "       -1.18880496e+00, -4.68974036e-01,  1.02166685e+00,  1.13874661e+00,\n",
       "        1.08443203e+00,  1.06831877e+00,  1.09485794e+00,  5.55522838e-01,\n",
       "        2.74800881e-01,  3.07341636e-01,  4.76604173e-01,  1.06924551e+00,\n",
       "        1.38818070e+00,  9.70315171e-01,  3.56044284e+00,  3.78754064e+00,\n",
       "       -9.64995958e-02, -1.49604597e-01, -2.10817832e-01, -3.15498738e-01,\n",
       "       -4.72229923e-01, -6.61456022e-01, -7.75266035e-01, -8.65736102e-01,\n",
       "       -9.39610827e-01, -1.05928639e+00, -1.14859476e+00, -1.19434168e+00,\n",
       "       -1.22440729e+00,  9.68781696e-01,  1.33930691e+00,  1.19697846e+00,\n",
       "        1.22060342e+00,  1.18256381e+00,  1.13894149e+00,  1.18715938e+00,\n",
       "        1.12622191e+00,  1.18675313e+00,  8.27357079e-01,  6.99178675e-01,\n",
       "        9.69687327e-01,  2.31954860e+00,  4.20152607e+00, -1.86392546e-01,\n",
       "       -1.06487096e-01, -1.66430000e-01, -2.28855076e-01, -3.35654105e-01,\n",
       "       -4.93622358e-01, -6.81323855e-01, -7.87888968e-01, -8.77287678e-01,\n",
       "       -9.52292365e-01, -1.07358657e+00, -1.17964225e+00, -1.23831928e+00,\n",
       "       -1.27414629e+00,  7.41303525e-01,  1.24420035e+00,  9.41432990e-01,\n",
       "        1.03640433e+00,  1.12084463e+00,  1.23746394e+00,  1.19612885e+00,\n",
       "        1.15200889e+00,  1.21504737e+00,  1.39062920e+00,  1.65316931e+00,\n",
       "        2.04625076e+00,  2.67673012e+00,  2.67822749e+00, -2.14850728e-01,\n",
       "       -1.16649481e-01, -1.79923212e-01, -2.37131555e-01, -3.40659170e-01,\n",
       "       -5.04079490e-01, -6.86741698e-01, -7.86984599e-01, -8.76341319e-01,\n",
       "       -9.57328506e-01, -1.07795582e+00, -1.22103441e+00, -1.30801365e+00,\n",
       "       -1.39946445e+00,  7.92184281e-01,  1.21605337e+00,  9.11657007e-01,\n",
       "        8.62820370e-01,  6.69227025e-01,  5.05877344e-01,  9.95382616e-01,\n",
       "        9.69854706e-01,  1.06808127e+00,  1.22141323e+00,  1.58463683e+00,\n",
       "        1.87511299e+00,  2.37984329e+00,  2.72972119e+00, -2.41070420e-01,\n",
       "       -1.30075447e-01, -1.92167591e-01, -2.38306697e-01, -3.35310376e-01,\n",
       "       -4.99303339e-01, -6.77774191e-01, -7.75950888e-01, -8.72015558e-01,\n",
       "       -9.75064948e-01, -1.10741105e+00, -1.30153112e+00, -1.47599773e+00,\n",
       "       -1.45934872e+00,  1.05756138e+00,  1.08478123e+00,  8.20435373e-01,\n",
       "        9.13500923e-01,  5.52885412e-01,  3.05633135e-01,  1.13130654e+00,\n",
       "        9.16705095e-01,  1.11439206e+00,  1.29714193e+00,  1.39200124e+00,\n",
       "        1.86328272e+00,  1.67451132e+00,  2.45960666e+00,  1.72376912e+00,\n",
       "       -1.44276412e-01, -2.03649637e-01, -2.45893608e-01, -3.38602854e-01,\n",
       "       -5.04339366e-01, -6.73240052e-01, -7.75536132e-01, -8.87068313e-01,\n",
       "       -1.03562871e+00, -1.24528908e+00, -1.44636972e+00, -1.64381499e+00,\n",
       "       -5.11405857e-01,  1.36036178e+00,  1.08392580e+00,  9.19487924e-01,\n",
       "        8.92414226e-01,  6.81920253e-01,  6.39758108e-01,  1.02122441e+00,\n",
       "        9.51617597e-01,  1.01340706e+00,  1.22154847e+00,  1.40592216e+00,\n",
       "        2.00947401e+00,  7.05329292e-01,  1.63851130e+00,  1.68615760e+00,\n",
       "       -1.52851275e-01, -2.18587976e-01, -2.63908376e-01, -3.60160489e-01,\n",
       "       -5.37225095e-01, -7.11802199e-01, -8.26956438e-01, -9.51259205e-01,\n",
       "       -1.12267557e+00, -1.30644784e+00, -1.62393964e+00, -1.76727431e+00,\n",
       "       -1.17282733e+00,  1.22869245e+00,  1.13784171e+00,  1.04960243e+00,\n",
       "        1.01726591e+00,  1.19561950e+00,  1.08212666e+00,  9.27143082e-01,\n",
       "        9.87085466e-01,  1.09200748e+00,  1.31051280e+00,  1.33172162e+00,\n",
       "        1.65489727e+00,  1.71982470e+00,  5.62404521e-01, -3.34838390e-01,\n",
       "       -1.82333829e-01, -2.72657112e-01, -3.04250056e-01, -3.58705645e-01,\n",
       "       -5.36566757e-01, -7.17045015e-01, -8.76772635e-01, -1.00089801e+00,\n",
       "       -1.16662797e+00, -1.43474395e+00, -1.73831746e+00, -1.92223082e+00,\n",
       "        1.18276161e+00,  1.08345355e+00,  9.85954468e-01,  9.52870539e-01,\n",
       "        9.18412611e-01,  8.93670910e-01,  9.36209911e-01,  1.03562041e+00,\n",
       "        9.98583450e-01,  1.09773455e+00,  1.25553737e+00,  1.29672191e+00,\n",
       "        1.65257822e+00,  2.24006818e+00,  3.20731270e-01, -3.64384743e-01,\n",
       "       -2.49634375e-01, -2.96257026e-01, -3.98518283e-01, -4.95652078e-01,\n",
       "       -6.89694487e-01, -8.56112616e-01, -9.42418516e-01, -1.03561679e+00,\n",
       "       -1.22250944e+00, -8.08656424e-01, -2.46176629e-03,  7.36283457e-01,\n",
       "        1.04402891e+00,  8.15532044e-01,  9.17885505e-01,  9.18531446e-01,\n",
       "        8.45367334e-01,  7.20719366e-01,  7.64364509e-01,  9.89953140e-01,\n",
       "        1.10564860e+00,  1.09020317e+00,  1.13845183e+00,  1.27912972e+00,\n",
       "        1.68504449e+00,  2.08605998e+00,  1.22149447e+00, -3.90510206e-01,\n",
       "       -3.10451993e-01, -4.03139766e-01, -4.46566612e-01, -5.47776650e-01,\n",
       "       -5.27361362e-01, -4.19794934e-01, -1.14064673e-01,  7.75216379e-02,\n",
       "        8.78042092e-01,  1.13155165e+00,  9.52527142e-01,  9.60769339e-01,\n",
       "        8.70854756e-01,  1.04469187e+00,  7.24383976e-01,  6.87407311e-01,\n",
       "        7.28551957e-01,  1.03983060e+00,  9.41844722e-01,  1.17903694e+00,\n",
       "        5.93210371e-01,  7.32252798e-01,  1.47107587e+00,  1.62976824e+00,\n",
       "        1.77515992e+00,  2.02769894e+00,  1.86173196e+00, -4.10463637e-01,\n",
       "       -3.22559353e-01,  5.32298530e-01,  2.46574332e+00,  2.30370038e+00,\n",
       "        1.90359166e+00,  1.48590121e+00,  1.36596973e+00,  1.16661734e+00,\n",
       "        1.02131006e+00,  9.28320313e-01,  7.71562399e-01,  7.57150705e-01,\n",
       "        6.20292998e-01,  1.53828204e-01,  1.29583723e+00,  5.35447498e-01,\n",
       "        6.64596661e-01,  9.50982277e-01,  1.39997034e+00,  1.46304795e+00,\n",
       "        1.17268881e+00,  1.27562470e+00,  1.21130625e+00,  1.27389260e+00,\n",
       "        1.68162004e+00,  2.04795973e+00,  2.33203355e+00, -4.07071204e-01,\n",
       "       -1.79337259e-01,  3.06841190e+00,  3.05469347e+00,  2.49118117e+00,\n",
       "        1.85092620e+00,  1.37930294e+00,  1.22744993e+00,  1.25568848e+00,\n",
       "        1.02480139e+00,  8.12660995e-01,  7.36951191e-01,  9.20277865e-01,\n",
       "        1.19339729e+00, -8.27211390e-01,  1.29096135e-01,  1.40473816e+00,\n",
       "        1.01736472e+00,  9.35710820e-01,  5.24344078e-01,  2.94339878e-01,\n",
       "        9.07487792e-01,  1.08482838e+00,  1.07410977e+00,  1.29557948e+00,\n",
       "        1.76420818e+00,  2.08792065e+00,  2.19674138e+00, -3.96444792e-01,\n",
       "        3.62801922e+00,  3.70084537e+00,  2.62758426e+00,  2.30240194e+00,\n",
       "        1.86706191e+00,  1.59405364e+00,  1.44223559e+00,  1.52193171e+00,\n",
       "        1.53922876e+00,  1.01594749e+00,  6.07517508e-01,  8.52154549e-01,\n",
       "        8.73506843e-01,  1.25374468e+00, -8.66881681e-01, -9.50957943e-01,\n",
       "       -6.43898584e-01, -4.47736099e-01,  3.19556706e-01,  1.09431249e+00,\n",
       "        1.31073575e+00,  1.20255544e+00,  1.25543459e+00,  1.50035385e+00,\n",
       "        1.84705681e+00,  2.13998084e+00,  2.43716472e+00,  6.08612376e-01,\n",
       "        2.70575232e+00,  3.24252268e+00,  2.90110502e+00,  2.25285383e+00,\n",
       "        1.54143689e+00,  1.35104865e+00,  1.27657777e+00,  1.46088761e+00,\n",
       "        1.16634642e+00,  6.16089571e-01,  6.69720789e-01,  7.42053843e-01,\n",
       "        6.44249610e-01,  9.20073321e-01,  1.27050944e+00,  6.71643371e-01,\n",
       "        1.00719739e+00,  1.26300683e+00,  1.25145917e+00,  1.19504053e+00,\n",
       "        1.36305960e+00,  1.26753744e+00,  1.24063196e+00,  1.57333860e+00,\n",
       "        1.93855336e+00,  2.29317555e+00,  2.76951759e+00,  2.15908910e+00,\n",
       "        1.75923435e+00,  3.40565740e+00,  2.56236942e+00,  2.18534461e+00,\n",
       "        1.82276647e+00,  1.29431687e+00,  1.04355432e+00,  1.12718904e+00,\n",
       "        9.40266136e-01,  7.32532341e-01,  7.59307348e-01,  8.53602404e-01,\n",
       "        9.21250059e-01,  1.03117497e+00,  1.06331421e+00,  1.19362926e+00,\n",
       "        1.01304386e+00,  9.53794126e-01,  8.53444308e-01,  1.07514108e+00,\n",
       "        1.09401160e+00,  1.03378194e+00,  9.76145138e-01,  1.10104741e+00,\n",
       "        1.57926107e+00,  2.26847927e+00,  2.68583832e+00,  4.20562813e+00,\n",
       "       -2.18587697e-01,  2.19199720e+00,  3.47536690e+00,  2.34582324e+00,\n",
       "        1.51130961e+00,  1.08750083e+00,  1.10126986e+00,  1.28692177e+00,\n",
       "        1.10124653e+00,  9.87621203e-01,  9.36998806e-01,  8.10191831e-01,\n",
       "        8.69012700e-01,  9.51706448e-01,  9.03233874e-01,  8.07958360e-01,\n",
       "        7.31282451e-01,  7.45502161e-01,  8.95940821e-01,  9.86132489e-01,\n",
       "        1.33141259e+00,  1.27620037e+00,  1.06272393e+00,  1.03023777e+00,\n",
       "        1.55896254e+00,  2.13279914e+00,  3.17520398e+00,  3.95465060e+00,\n",
       "       -1.85080533e-01, -2.63822628e-01,  1.11166741e+00,  2.51259872e+00,\n",
       "        2.05084298e+00,  1.39829118e+00,  1.11645550e+00,  1.12606799e+00,\n",
       "        8.69725672e-01,  7.51235723e-01,  6.92271401e-01,  6.59366113e-01,\n",
       "        6.84595929e-01,  7.76352990e-01,  9.01243782e-01,  9.10217241e-01,\n",
       "        9.17631528e-01,  1.01176759e+00,  1.13624376e+00,  1.26739400e+00,\n",
       "        1.59895342e+00,  1.37267067e+00,  1.30155013e+00,  1.60031216e+00,\n",
       "        2.09024699e+00,  3.07984093e+00,  2.99889432e+00, -1.87587669e-01,\n",
       "        5.55242663e-03, -2.11476021e-01, -2.83460823e-01, -4.06901028e-01,\n",
       "        2.91998975e-01,  1.61867385e+00,  1.77527398e+00,  2.03479180e+00,\n",
       "        1.67569440e+00,  1.50255425e+00,  1.44492030e+00,  1.32896484e+00,\n",
       "        1.35205854e+00,  1.21026076e+00,  1.28163434e+00,  9.51739381e-01,\n",
       "        8.63854941e-01,  7.69097875e-01,  9.24032220e-01,  1.06994348e+00,\n",
       "        1.38397017e+00,  1.38895773e+00,  1.17504585e+00,  1.42051157e+00,\n",
       "        9.55662392e-01,  6.98519168e-01, -2.61527540e-01, -1.50491925e-01,\n",
       "       -1.00006485e-01, -1.61635280e-01, -2.33852370e-01, -3.58257922e-01,\n",
       "       -5.33278550e-01, -6.19899418e-01, -6.63315874e-01, -1.82564878e-01,\n",
       "       -1.31175754e-01, -4.69446999e-01, -2.83334943e-01, -6.80896100e-01,\n",
       "       -7.29320797e-01, -1.00401354e+00, -9.26076620e-01, -9.72110865e-01,\n",
       "       -1.02542801e+00, -1.01118057e+00, -9.35905713e-01, -8.13999880e-01,\n",
       "       -6.80882496e-01, -6.42959294e-01, -6.37148159e-01, -5.82556009e-01,\n",
       "       -4.52872542e-01, -2.97427388e-01, -2.08924315e-01, -1.11372986e-01,\n",
       "       -5.61756058e-02, -1.04372845e-01, -1.77726059e-01, -3.05511268e-01,\n",
       "       -4.74838394e-01, -5.59138470e-01, -5.93877843e-01, -5.87841011e-01,\n",
       "       -6.78360164e-01, -8.08294356e-01, -9.16538149e-01, -9.73307508e-01,\n",
       "       -9.59816367e-01, -8.80617873e-01, -8.14345755e-01, -8.59919392e-01,\n",
       "       -9.15808448e-01, -9.06842657e-01, -8.31536623e-01, -7.01824715e-01,\n",
       "       -5.81968346e-01, -5.71359849e-01, -5.74336763e-01, -5.20471184e-01,\n",
       "       -3.98166274e-01, -2.42559128e-01, -1.55186398e-01, -7.60371095e-02,\n",
       "       -2.51591927e-02, -4.82334823e-02, -1.01549724e-01, -2.09119576e-01,\n",
       "       -3.40462398e-01, -4.25818674e-01, -4.36428512e-01, -4.05461503e-01,\n",
       "       -4.56937685e-01, -5.54523016e-01, -6.72072014e-01, -7.52476986e-01,\n",
       "       -7.53908141e-01, -6.88920061e-01, -6.43264182e-01, -6.77526731e-01,\n",
       "       -7.29744139e-01, -7.03057047e-01, -6.00521000e-01, -4.74798441e-01,\n",
       "       -3.94259892e-01, -4.06094020e-01, -4.41358493e-01, -3.96626259e-01,\n",
       "       -2.88155750e-01, -1.56811276e-01, -8.96730766e-02, -3.41472927e-02])"
      ]
     },
     "execution_count": 8,
     "metadata": {},
     "output_type": "execute_result"
    }
   ],
   "source": [
    "X_trainN[0]"
   ]
  },
  {
   "cell_type": "code",
   "execution_count": null,
   "metadata": {},
   "outputs": [],
   "source": []
  },
  {
   "cell_type": "code",
   "execution_count": null,
   "metadata": {},
   "outputs": [],
   "source": []
  },
  {
   "cell_type": "code",
   "execution_count": null,
   "metadata": {},
   "outputs": [],
   "source": []
  },
  {
   "cell_type": "code",
   "execution_count": 11,
   "metadata": {},
   "outputs": [
    {
     "name": "stdout",
     "output_type": "stream",
     "text": [
      "Tamaño de las imágenes (28x28) según la descripción del dataset:  784\n",
      "La dimensión de la entrada (x) a la red:  784\n"
     ]
    }
   ],
   "source": [
    "print(\"Tamaño de las imágenes (28x28) según la descripción del dataset: \",28*28)\n",
    "print(\"La dimensión de la entrada (x) a la red: \", input_dim)"
   ]
  },
  {
   "cell_type": "code",
   "execution_count": 12,
   "metadata": {},
   "outputs": [
    {
     "name": "stdout",
     "output_type": "stream",
     "text": [
      "Ejemplo de la salida: \n"
     ]
    },
    {
     "data": {
      "text/plain": [
       "array([0., 0., 0., 0., 0., 0., 0., 0., 0., 1.], dtype=float32)"
      ]
     },
     "execution_count": 12,
     "metadata": {},
     "output_type": "execute_result"
    }
   ],
   "source": [
    "print(\"Ejemplo de la salida: \")\n",
    "y_trainOHE[0]"
   ]
  },
  {
   "cell_type": "markdown",
   "metadata": {},
   "source": [
    "## Codificación de variables categóricas"
   ]
  },
  {
   "cell_type": "markdown",
   "metadata": {},
   "source": [
    "#### 1. Se hace codificación One-Hot-Encoding (OHE) de la salida\n",
    "\n",
    "<img src=\"img/ohe.png\" width=400px>\n",
    "\n",
    "### hay más opciones de codificación \n",
    "#### 2. Codificación Entera\n",
    "\n",
    "A cada variable categória se le asigna un número entero. Por ejemplo, “red” es 1, “green” es 2, y “blue” es 3.\n",
    "\n",
    "<a href=\"https://www.analyticsvidhya.com/blog/2020/08/types-of-categorical-data-encoding/\" target=\"_blank\">más...</a>"
   ]
  },
  {
   "cell_type": "code",
   "execution_count": 23,
   "metadata": {},
   "outputs": [
    {
     "data": {
      "text/plain": [
       "array([9, 0, 0, 3, 0, 2, 7, 2, 5, 5], dtype=uint8)"
      ]
     },
     "execution_count": 23,
     "metadata": {},
     "output_type": "execute_result"
    }
   ],
   "source": [
    "y_train[0:10]"
   ]
  },
  {
   "cell_type": "code",
   "execution_count": 24,
   "metadata": {},
   "outputs": [
    {
     "data": {
      "text/plain": [
       "array([[0., 0., 0., 0., 0., 0., 0., 0., 0., 1.],\n",
       "       [1., 0., 0., 0., 0., 0., 0., 0., 0., 0.],\n",
       "       [1., 0., 0., 0., 0., 0., 0., 0., 0., 0.],\n",
       "       [0., 0., 0., 1., 0., 0., 0., 0., 0., 0.],\n",
       "       [1., 0., 0., 0., 0., 0., 0., 0., 0., 0.],\n",
       "       [0., 0., 1., 0., 0., 0., 0., 0., 0., 0.],\n",
       "       [0., 0., 0., 0., 0., 0., 0., 1., 0., 0.],\n",
       "       [0., 0., 1., 0., 0., 0., 0., 0., 0., 0.],\n",
       "       [0., 0., 0., 0., 0., 1., 0., 0., 0., 0.],\n",
       "       [0., 0., 0., 0., 0., 1., 0., 0., 0., 0.]], dtype=float32)"
      ]
     },
     "execution_count": 24,
     "metadata": {},
     "output_type": "execute_result"
    }
   ],
   "source": [
    "y_trainOHE[0:10]"
   ]
  },
  {
   "cell_type": "markdown",
   "metadata": {},
   "source": [
    "## Definir la arquitectura de la red "
   ]
  },
  {
   "cell_type": "code",
   "execution_count": 25,
   "metadata": {},
   "outputs": [],
   "source": [
    "from keras.models import Sequential\n",
    "from keras.layers import Dense, Activation\n",
    "\n",
    "model = Sequential([\n",
    "    Dense(32, input_shape=(input_dim,)),\n",
    "    Activation('tanh'),\n",
    "    Dense(nb_classes),\n",
    "    Activation('softmax'),\n",
    "])"
   ]
  },
  {
   "cell_type": "code",
   "execution_count": 26,
   "metadata": {},
   "outputs": [
    {
     "name": "stdout",
     "output_type": "stream",
     "text": [
      "Model: \"sequential\"\n",
      "_________________________________________________________________\n",
      " Layer (type)                Output Shape              Param #   \n",
      "=================================================================\n",
      " dense (Dense)               (None, 32)                25120     \n",
      "                                                                 \n",
      " activation (Activation)     (None, 32)                0         \n",
      "                                                                 \n",
      " dense_1 (Dense)             (None, 10)                330       \n",
      "                                                                 \n",
      " activation_1 (Activation)   (None, 10)                0         \n",
      "                                                                 \n",
      "=================================================================\n",
      "Total params: 25,450\n",
      "Trainable params: 25,450\n",
      "Non-trainable params: 0\n",
      "_________________________________________________________________\n"
     ]
    }
   ],
   "source": [
    "model.summary()"
   ]
  },
  {
   "cell_type": "code",
   "execution_count": 28,
   "metadata": {},
   "outputs": [
    {
     "data": {
      "text/plain": [
       "25120"
      ]
     },
     "execution_count": 28,
     "metadata": {},
     "output_type": "execute_result"
    }
   ],
   "source": [
    "32*784 + 32"
   ]
  },
  {
   "cell_type": "markdown",
   "metadata": {},
   "source": [
    "o"
   ]
  },
  {
   "cell_type": "code",
   "execution_count": 29,
   "metadata": {},
   "outputs": [],
   "source": [
    "del model # se borra la variable model \n",
    "model = Sequential()\n",
    "model.add(Dense(64, input_dim=input_dim))\n",
    "model.add(Activation('tanh'))\n",
    "model.add(Dense(32))\n",
    "model.add(Activation('tanh'))\n",
    "model.add(Dense(nb_classes, activation='softmax'))"
   ]
  },
  {
   "cell_type": "code",
   "execution_count": 30,
   "metadata": {},
   "outputs": [
    {
     "name": "stdout",
     "output_type": "stream",
     "text": [
      "Model: \"sequential_1\"\n",
      "_________________________________________________________________\n",
      " Layer (type)                Output Shape              Param #   \n",
      "=================================================================\n",
      " dense_2 (Dense)             (None, 64)                50240     \n",
      "                                                                 \n",
      " activation_2 (Activation)   (None, 64)                0         \n",
      "                                                                 \n",
      " dense_3 (Dense)             (None, 32)                2080      \n",
      "                                                                 \n",
      " activation_3 (Activation)   (None, 32)                0         \n",
      "                                                                 \n",
      " dense_4 (Dense)             (None, 10)                330       \n",
      "                                                                 \n",
      "=================================================================\n",
      "Total params: 52,650\n",
      "Trainable params: 52,650\n",
      "Non-trainable params: 0\n",
      "_________________________________________________________________\n"
     ]
    }
   ],
   "source": [
    "model.summary()"
   ]
  },
  {
   "cell_type": "markdown",
   "metadata": {},
   "source": [
    "Una vez la arquitectura del modelo sea definida, el siguiente paso es configurar la función de pérdida y el optimizador\n",
    "\n",
    "<a href=\"https://keras.io/api/optimizers/\" target=\"_blank\">Keras optimizers</a>\n",
    "<br><br>\n",
    "<a href=\"https://keras.io/api/losses/\" target=\"_blank\">Loss functions</a>\n",
    "<br><br>\n",
    "<a href=\"https://youtu.be/A6FiCDoz8_4\" target=\"_blank\">Video</a>"
   ]
  },
  {
   "cell_type": "code",
   "execution_count": 31,
   "metadata": {},
   "outputs": [],
   "source": [
    "# pass optimizer by name: default parameters will be used\n",
    "model.compile(loss='categorical_crossentropy', optimizer='sgd')\n",
    "\n",
    "# or instantiate an optimizer before passing it to model.compile\n",
    "sgd = tf.keras.optimizers.SGD(lr=0.01, decay=1e-6, momentum=0.9, nesterov=True)\n",
    "model.compile(loss='categorical_crossentropy', optimizer=sgd)"
   ]
  },
  {
   "cell_type": "markdown",
   "metadata": {},
   "source": [
    "#### Entrenamiento"
   ]
  },
  {
   "cell_type": "code",
   "execution_count": 32,
   "metadata": {},
   "outputs": [
    {
     "name": "stdout",
     "output_type": "stream",
     "text": [
      "Training...\n",
      "Generating test predictions...\n"
     ]
    }
   ],
   "source": [
    "print(\"Training...\")\n",
    "model.train_on_batch(X_trainN, y_trainOHE)\n",
    "\n",
    "print(\"Generating test predictions...\")\n",
    "preds = model.predict(X_testN[0,:].reshape(1,input_dim), verbose=0)"
   ]
  },
  {
   "cell_type": "code",
   "execution_count": 33,
   "metadata": {},
   "outputs": [
    {
     "name": "stdout",
     "output_type": "stream",
     "text": [
      "real class\n",
      "9\n"
     ]
    },
    {
     "data": {
      "image/png": "[encoded data removed]",
      "text/plain": [
       "<Figure size 432x288 with 2 Axes>"
      ]
     },
     "metadata": {
      "needs_background": "light"
     },
     "output_type": "display_data"
    }
   ],
   "source": [
    "print('real class')\n",
    "print(y_test[0])\n",
    "\n",
    "objects = ('Botas', 'Bolso', 'Zapatillas', 'Camisa', 'Sandalias', 'Abrigo', 'Vestido', 'Saco', 'Pantalón', 'Camiseta/top')\n",
    "y_pos = np.arange(nb_classes)\n",
    "performance = preds.flatten()\n",
    "plt.subplot(121)\n",
    "plt.imshow(X_test[0,:].reshape(28,28), cmap='gray');\n",
    "plt.subplot(122) \n",
    "plt.barh(y_pos[::-1], performance, align='center', alpha=0.5)\n",
    "plt.yticks(y_pos, objects)\n",
    "plt.xlabel('Probability')\n",
    "plt.title('Network outputs')\n",
    "plt.subplots_adjust(wspace = 1)\n",
    "plt.show()"
   ]
  },
  {
   "cell_type": "code",
   "execution_count": null,
   "metadata": {},
   "outputs": [],
   "source": []
  },
  {
   "cell_type": "code",
   "execution_count": 34,
   "metadata": {},
   "outputs": [
    {
     "name": "stdout",
     "output_type": "stream",
     "text": [
      "Training...\n",
      "Epoch 1/10\n",
      "3375/3375 - 7s - loss: 0.4587 - val_loss: 0.4172 - 7s/epoch - 2ms/step\n",
      "Epoch 2/10\n",
      "3375/3375 - 7s - loss: 0.3676 - val_loss: 0.3726 - 7s/epoch - 2ms/step\n",
      "Epoch 3/10\n",
      "3375/3375 - 7s - loss: 0.3393 - val_loss: 0.3640 - 7s/epoch - 2ms/step\n",
      "Epoch 4/10\n",
      "3375/3375 - 7s - loss: 0.3155 - val_loss: 0.3650 - 7s/epoch - 2ms/step\n",
      "Epoch 5/10\n",
      "3375/3375 - 7s - loss: 0.3017 - val_loss: 0.3565 - 7s/epoch - 2ms/step\n",
      "Epoch 6/10\n",
      "3375/3375 - 7s - loss: 0.2868 - val_loss: 0.3623 - 7s/epoch - 2ms/step\n",
      "Epoch 7/10\n",
      "3375/3375 - 7s - loss: 0.2749 - val_loss: 0.3491 - 7s/epoch - 2ms/step\n",
      "Epoch 8/10\n",
      "3375/3375 - 7s - loss: 0.2662 - val_loss: 0.3612 - 7s/epoch - 2ms/step\n",
      "Epoch 9/10\n",
      "3375/3375 - 7s - loss: 0.2597 - val_loss: 0.3532 - 7s/epoch - 2ms/step\n",
      "Epoch 10/10\n",
      "3375/3375 - 7s - loss: 0.2500 - val_loss: 0.3615 - 7s/epoch - 2ms/step\n"
     ]
    },
    {
     "data": {
      "text/plain": [
       "<keras.callbacks.History at 0x1833019ebe0>"
      ]
     },
     "execution_count": 34,
     "metadata": {},
     "output_type": "execute_result"
    }
   ],
   "source": [
    "print(\"Training...\")\n",
    "model.fit(X_trainN, y_trainOHE, epochs=10, batch_size=16, validation_split=0.1, verbose=2)"
   ]
  },
  {
   "cell_type": "code",
   "execution_count": 35,
   "metadata": {},
   "outputs": [
    {
     "name": "stdout",
     "output_type": "stream",
     "text": [
      "Generating test predictions...\n"
     ]
    },
    {
     "data": {
      "image/png": "[encoded data removed]",
      "text/plain": [
       "<Figure size 432x288 with 1 Axes>"
      ]
     },
     "metadata": {
      "needs_background": "light"
     },
     "output_type": "display_data"
    }
   ],
   "source": [
    "print(\"Generating test predictions...\")\n",
    "preds = model.predict(X_testN[0,:].reshape(1,input_dim), verbose=0)\n",
    "performance = preds.flatten()\n",
    " \n",
    "plt.barh(y_pos[::-1], performance, align='center', alpha=0.5)\n",
    "plt.yticks(y_pos, objects)\n",
    "plt.xlabel('Probability')\n",
    "plt.title('Network outputs')\n",
    " \n",
    "plt.show()"
   ]
  },
  {
   "cell_type": "code",
   "execution_count": 36,
   "metadata": {},
   "outputs": [
    {
     "data": {
      "text/plain": [
       "array([9, 2, 1, ..., 8, 1, 5], dtype=int64)"
      ]
     },
     "execution_count": 36,
     "metadata": {},
     "output_type": "execute_result"
    }
   ],
   "source": [
    "preds = model.predict(X_testN, verbose=0)\n",
    "classes_x=np.argmax(preds,axis=1)\n",
    "classes_x"
   ]
  },
  {
   "cell_type": "code",
   "execution_count": 37,
   "metadata": {},
   "outputs": [
    {
     "name": "stdout",
     "output_type": "stream",
     "text": [
      "Accuracy =  86.45 %\n"
     ]
    }
   ],
   "source": [
    "preds = model.predict(X_testN, verbose=0)\n",
    "preds = np.argmax(preds,axis=1)\n",
    "Accuracy = np.mean(preds == y_test)\n",
    "print('Accuracy = ', Accuracy*100, '%')"
   ]
  },
  {
   "cell_type": "code",
   "execution_count": 38,
   "metadata": {},
   "outputs": [
    {
     "data": {
      "text/plain": [
       "([<matplotlib.axis.YTick at 0x1832fec2be0>,\n",
       "  <matplotlib.axis.YTick at 0x1832fec27c0>,\n",
       "  <matplotlib.axis.YTick at 0x1832fe7c610>,\n",
       "  <matplotlib.axis.YTick at 0x18330368a90>,\n",
       "  <matplotlib.axis.YTick at 0x183302b3e50>,\n",
       "  <matplotlib.axis.YTick at 0x1832f8327c0>,\n",
       "  <matplotlib.axis.YTick at 0x1832f9a9c40>,\n",
       "  <matplotlib.axis.YTick at 0x1832f9bb220>,\n",
       "  <matplotlib.axis.YTick at 0x1832f998c10>,\n",
       "  <matplotlib.axis.YTick at 0x1832f998430>],\n",
       " [Text(0, 0, 'Botas'),\n",
       "  Text(0, 1, 'Bolso'),\n",
       "  Text(0, 2, 'Zapatillas'),\n",
       "  Text(0, 3, 'Camisa'),\n",
       "  Text(0, 4, 'Sandalias'),\n",
       "  Text(0, 5, 'Abrigo'),\n",
       "  Text(0, 6, 'Vestido'),\n",
       "  Text(0, 7, 'Saco'),\n",
       "  Text(0, 8, 'Pantalón'),\n",
       "  Text(0, 9, 'Camiseta/top')])"
      ]
     },
     "execution_count": 38,
     "metadata": {},
     "output_type": "execute_result"
    },
    {
     "data": {
      "image/png": "[encoded data removed]",
      "text/plain": [
       "<Figure size 432x288 with 2 Axes>"
      ]
     },
     "metadata": {
      "needs_background": "light"
     },
     "output_type": "display_data"
    }
   ],
   "source": [
    "from sklearn.metrics import confusion_matrix\n",
    "\n",
    "cm = confusion_matrix(y_test, preds)\n",
    "cm = cm/np.sum(cm)\n",
    "cmap = plt.cm.Blues\n",
    "tick_marks = np.arange(nb_classes)\n",
    "plt.imshow(cm, interpolation='nearest', cmap=cmap)\n",
    "plt.title('Normalized confusion matrix')\n",
    "plt.colorbar()\n",
    "plt.xticks(tick_marks, objects, rotation=45)\n",
    "plt.yticks(tick_marks, objects)"
   ]
  },
  {
   "cell_type": "code",
   "execution_count": null,
   "metadata": {},
   "outputs": [],
   "source": []
  },
  {
   "cell_type": "markdown",
   "metadata": {},
   "source": [
    "### Modelos funcionales\n",
    "\n",
    "La API funcional de Keras proporciona una forma más flexible de definir modelos.\n",
    "\n",
    "Los modelos se definen creando instancias de capas y conectándolos directamente entre sí en pares, luego definiendo un Modelo que especifica las capas para actuar como entrada y salida del modelo."
   ]
  },
  {
   "cell_type": "code",
   "execution_count": 39,
   "metadata": {},
   "outputs": [],
   "source": [
    "from keras.layers import Input, Dense\n",
    "from keras.models import Model\n",
    "\n",
    "# Esto retorna un tensor\n",
    "inputs = Input(shape=(784,))\n",
    "\n",
    "# Se llama a una capa con su entrada (tipo tensor), y retorna igualmente un tensor\n",
    "x = Dense(64, activation='tanh')(inputs)\n",
    "x = Dense(32, activation='tanh')(x)\n",
    "predictions = Dense(nb_classes, activation='softmax')(x)\n",
    "\n",
    "# Aquí se crea el modelo que incluye las capas definidas\n",
    "# La capa de entrada y tres capas densas\n",
    "model = Model(inputs=inputs, outputs=predictions)\n",
    "model.compile(optimizer='sgd',\n",
    "              loss='categorical_crossentropy',\n",
    "              metrics=['accuracy'])"
   ]
  },
  {
   "cell_type": "code",
   "execution_count": 40,
   "metadata": {},
   "outputs": [
    {
     "name": "stdout",
     "output_type": "stream",
     "text": [
      "Model: \"model\"\n",
      "_________________________________________________________________\n",
      " Layer (type)                Output Shape              Param #   \n",
      "=================================================================\n",
      " input_1 (InputLayer)        [(None, 784)]             0         \n",
      "                                                                 \n",
      " dense_5 (Dense)             (None, 64)                50240     \n",
      "                                                                 \n",
      " dense_6 (Dense)             (None, 32)                2080      \n",
      "                                                                 \n",
      " dense_7 (Dense)             (None, 10)                330       \n",
      "                                                                 \n",
      "=================================================================\n",
      "Total params: 52,650\n",
      "Trainable params: 52,650\n",
      "Non-trainable params: 0\n",
      "_________________________________________________________________\n"
     ]
    }
   ],
   "source": [
    "model.summary()"
   ]
  },
  {
   "cell_type": "markdown",
   "metadata": {},
   "source": [
    "Se entrena el modelo con los mismo parámetros del entrenamiento anterior."
   ]
  },
  {
   "cell_type": "code",
   "execution_count": 41,
   "metadata": {},
   "outputs": [
    {
     "name": "stdout",
     "output_type": "stream",
     "text": [
      "Epoch 1/10\n",
      "3375/3375 - 7s - loss: 0.5662 - accuracy: 0.8082 - val_loss: 0.4265 - val_accuracy: 0.8458 - 7s/epoch - 2ms/step\n",
      "Epoch 2/10\n",
      "3375/3375 - 7s - loss: 0.3952 - accuracy: 0.8609 - val_loss: 0.3857 - val_accuracy: 0.8608 - 7s/epoch - 2ms/step\n",
      "Epoch 3/10\n",
      "3375/3375 - 6s - loss: 0.3539 - accuracy: 0.8752 - val_loss: 0.3621 - val_accuracy: 0.8682 - 6s/epoch - 2ms/step\n",
      "Epoch 4/10\n",
      "3375/3375 - 7s - loss: 0.3268 - accuracy: 0.8850 - val_loss: 0.3529 - val_accuracy: 0.8670 - 7s/epoch - 2ms/step\n",
      "Epoch 5/10\n",
      "3375/3375 - 6s - loss: 0.3068 - accuracy: 0.8914 - val_loss: 0.3568 - val_accuracy: 0.8693 - 6s/epoch - 2ms/step\n",
      "Epoch 6/10\n",
      "3375/3375 - 7s - loss: 0.2904 - accuracy: 0.8969 - val_loss: 0.3358 - val_accuracy: 0.8787 - 7s/epoch - 2ms/step\n",
      "Epoch 7/10\n",
      "3375/3375 - 6s - loss: 0.2765 - accuracy: 0.9025 - val_loss: 0.3362 - val_accuracy: 0.8763 - 6s/epoch - 2ms/step\n",
      "Epoch 8/10\n",
      "3375/3375 - 7s - loss: 0.2637 - accuracy: 0.9060 - val_loss: 0.3320 - val_accuracy: 0.8785 - 7s/epoch - 2ms/step\n",
      "Epoch 9/10\n",
      "3375/3375 - 6s - loss: 0.2528 - accuracy: 0.9107 - val_loss: 0.3334 - val_accuracy: 0.8782 - 6s/epoch - 2ms/step\n",
      "Epoch 10/10\n",
      "3375/3375 - 5s - loss: 0.2429 - accuracy: 0.9153 - val_loss: 0.3321 - val_accuracy: 0.8807 - 5s/epoch - 2ms/step\n"
     ]
    },
    {
     "data": {
      "text/plain": [
       "<keras.callbacks.History at 0x1832f7de100>"
      ]
     },
     "execution_count": 41,
     "metadata": {},
     "output_type": "execute_result"
    }
   ],
   "source": [
    "model.fit(X_trainN, y_trainOHE, epochs=10, batch_size=16, validation_split=0.1, verbose=2)"
   ]
  },
  {
   "cell_type": "code",
   "execution_count": 42,
   "metadata": {},
   "outputs": [
    {
     "name": "stdout",
     "output_type": "stream",
     "text": [
      "Accuracy =  87.06 %\n"
     ]
    }
   ],
   "source": [
    "preds = model.predict(X_testN, verbose=0)\n",
    "preds = np.argmax(preds,axis=1)\n",
    "Accuracy = np.mean(preds == y_test)\n",
    "print('Accuracy = ', Accuracy*100, '%')"
   ]
  }
 ],
 "metadata": {
  "kernelspec": {
   "display_name": "Python 3 (ipykernel)",
   "language": "python",
   "name": "python3"
  },
  "language_info": {
   "codemirror_mode": {
    "name": "ipython",
    "version": 3
   },
   "file_extension": ".py",
   "mimetype": "text/x-python",
   "name": "python",
   "nbconvert_exporter": "python",
   "pygments_lexer": "ipython3",
   "version": "3.10.9"
  }
 },
 "nbformat": 4,
 "nbformat_minor": 4
}
